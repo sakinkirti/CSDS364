{
 "cells": [
  {
   "cell_type": "markdown",
   "metadata": {},
   "source": [
    "## Assignment A1b: Functions and Computation\n",
    "\n",
    "Please follow the General Assignment Guidelines document on canvas under the Pages for completing this assignment.  When you have completed the assignment, please follow the Submission Instructions."
   ]
  },
  {
   "cell_type": "markdown",
   "metadata": {},
   "source": [
    "### Overview\n",
    "\n",
    "In this assignment you write more complex functions, learn to use vector operations, and make more complex plots.  You will learn  basic functions, computations, and programming style that will be useful in later parts of the course."
   ]
  },
  {
   "cell_type": "markdown",
   "metadata": {},
   "source": [
    "### Learning objectives\n",
    "- convert between values in time, samples, and radians\n",
    "- plot functions with time axes\n",
    "- plot common functions and vary their key parameters\n",
    "- simplify code by using default values\n",
    "- overlay and style plots to show relative position\n",
    "- use plot styles for discrete and continuous functions\n",
    "- make matrix of plots to illustrate a functions parameter space\n",
    "- write code in a functional programming style\n",
    "- write code in terms of vector operations\n",
    "- normalize a function over its range\n",
    "- write simple functions to compute local maxima and threshold crossings"
   ]
  },
  {
   "cell_type": "markdown",
   "metadata": {},
   "source": [
    "***\n",
    "## Exercises"
   ]
  },
  {
   "cell_type": "markdown",
   "metadata": {},
   "source": [
    "### 1. Common functions\n",
    "\n",
    "Write code to implement and plot the functions described below.  Use the same names as the titles below and use the following guidelines\n",
    "\n",
    "- write functions that are easily reusable\n",
    "- use vector or broadcasting operations when possible\n",
    "- do not worry about the efficiency of the implementation\n",
    "- use keyword arguments with default values for parameters\n",
    "- use a coding style that emphasizes clarity of the ideas\n",
    "- group lines of code by ideas\n",
    "- comment only what might not be clear to another student reading your code\n",
    "- choose meaningful or mnemonic variable names that won't be cryptic to another reader\n",
    "\n",
    "Plots and figures:\n",
    "- plots should have descriptive titles and axis labels.\n",
    "- font sizes and plot details should be legible\n",
    "- labels and legends shouldn't hide plot content"
   ]
  },
  {
   "cell_type": "markdown",
   "metadata": {},
   "source": [
    "### 1a. `sinewave`\n",
    "\n",
    "The most basic function in signal processing and in modeling many perceptual phenomena is the sinusoid\n",
    "\n",
    "$$\n",
    "\\sin(2\\pi f t + \\phi)\n",
    "$$\n",
    "\n",
    "where $f$ is the frequency in Hertz, t is time in seconds, and $\\phi$ is the phase in radians.  \n",
    "\n",
    "When working with sounds, however, it is often more convenient to think of a sine wave as having a time delay that is specified in seconds.  Write a function `sinewave(t; f=1.0, d=0.0)` that has arguments of `t` for the time value, `f` for the frequency, and `d` for the delay in seconds, with default values for the frequency and delay. Note that delay refers to a delay in the signal, i.e. a signal that normally starts at a time of 0 seconds with a delay `d = 0.01` would now start to +10 millseconds.\n",
    "\n",
    "Arrays of time values for a given sampling frequency should be defined *outside* the function.  A vector version of the function (if you are not using broadcasting) should accept an array of time values and return an array of function values at those times.  These conventions also apply to the functions below.\n",
    "\n",
    "Show with unit analysis the formulas to convert 1) a time in seconds to a sample index, using $f_s$ as the sampling frequency and $i$ as the sample index (zero-based), and 2) the delay in seconds to phase in radians.\n",
    "\n",
    "Note when we sample function $f(t)$ there are three different time-related variables to keep distinct: 1) continuous time of the function; 2) the times of the discrete set of samples.  These are real-valued, and describe the time points at the centers of the sample periods. And 3) the index of the array."
   ]
  },
  {
   "cell_type": "markdown",
   "metadata": {},
   "source": [
    "### 1b. `gabor`\n",
    "\n",
    "A **Gabor function** is a sinusoid modulated by a Gaussian.  It is used to describe a filter that is localized in both time and frequency or, for a spatial signal like an image, position and spatial frequency.  We will see later that 2D Gabor functions arise is the context of efficient visual representations.  Remarkably, the filtering and representation properties of the early visual system are described quite accurately with Gabor functions.  Gabor-like features commonly emerge in the first layers of neural networks when trained on general visual tasks.\n",
    "\n",
    "Mathematically, Gabor functions are usually centered at zero and are defined with a cos or sin function to give even and odd versions of the functions, respectively.  More generally, it can be defined as\n",
    "\n",
    "$$\n",
    "g(t) = a \\exp\\left(\\frac{-t^2}{2\\sigma^2}\\right) \\cos(2\\pi ft + \\phi)\n",
    "$$\n",
    "\n",
    "There are several parameters, but they are usually have values set to give characteristic properties. The amplitude $a$ is a normalizing constant you should define so $g(t)$ has unit norm\n",
    "\n",
    "$$\n",
    "|| g(t) || = \\left(\\sum_t g(t)^2\\right)^{1/2} = 1\n",
    "$$\n",
    "\n",
    "$\\sigma$ is the Gaussian width (or standard deviation) which is usually a small (integer) number of sinusoid periods.  The frequency $f$ is in Hertz for temporal signals.  For spatial signals, it is often convenient to define the sinusoid in terms of the period in pixels or samples, e.g. 1 period per 8 pixels.  The phase is in radians and is usually restricted to 0 or $\\pi/2$ to give **even** and **odd** versions of the Gabor function (`gabore` and `gaboro`, which you should also define).\n",
    "\n",
    "Scalar function definitions (for a scalar value of `t`) do not need to be normalized (since it depends on the sampling frequency), but they should accept the normalizing constant `a`.  \n",
    "\n",
    "Note that the scalar function *could* be computed (given the sampling frequency), but this would be very inefficient.  Instead, define functions `gabor_norm`, `gabore_norm`, and `gaboro_norm` to compute the normalization constant.  These should accept the same arguments as the scalar functions, but without a time argument and have an additional argument for the sampling frequency.  The normalization constants should be computed using the non-zero extents of the functions.\n",
    "\n",
    "Vector functions should be normalized over the extent of the argument vector `t`."
   ]
  },
  {
   "cell_type": "markdown",
   "metadata": {},
   "source": [
    "### 1c. `gammatone`\n",
    "\n",
    "The **gammatone function** is used to model cochlear filtering and is defined as\n",
    "\n",
    "$$\n",
    "g(t) = at^{n-1} e^{-2\\pi b t} \\cos(2\\pi f t + \\phi), \\quad t \\ge 0\n",
    "$$\n",
    "\n",
    "where $f$ is the frequency in Hertz and $\\phi$ is the phase in radians.  Note that $g(t) = 0$ for $ t < 0$. The exponent $n$ is the shape parameter ($n=4$ is a typical value).  The inverse scale parameter $b$ is defined as\n",
    "\n",
    "$\n",
    "b = 1.019 \\cdot \\textrm{ERB(f)}\n",
    "$\n",
    "\n",
    "where\n",
    "\n",
    "$\n",
    "\\textrm{ERB}(f) = 24.7(4.37 f / 1000 + 1)\n",
    "$\n",
    "\n",
    "The amplitude $a$ should be set so that the function has unit norm.  ERB stands for equivalent rectangular bandwidth.  These specific values are used to model the filtering properties of the cochlea at different frequencies. We will cover this in more detail in future lectures."
   ]
  },
  {
   "cell_type": "markdown",
   "metadata": {},
   "source": [
    "### 2. Simple computation"
   ]
  },
  {
   "cell_type": "markdown",
   "metadata": {},
   "source": [
    "### 2a. `localmaxima`\n",
    "\n",
    "Write a function to compute the indices of the local maxima of a 1D signal (i.e. an array) ignoring edges and plateaus (i.e. ranges where the function has constant value).  The function should return the indices of all maxima, which we will define simply as $f[i-1] < f[i] > f[i+1]$.  Note we have used square brackets to emphasize that $f[i]$ is an array with discrete index $i$ vs $f(t)$ which is a continuous function of $t$."
   ]
  },
  {
   "cell_type": "markdown",
   "metadata": {},
   "source": [
    "### 2b. `crossings`\n",
    "\n",
    "Write a function to compute the indices of the locations where a function (again an array) first equals or crosses a specified threshold.  The function should also take an argument that specifies three possibilities of the direction of the crossing: 1) **negpos**: from below the threshold to equal to or greater than the threshold; 2) **posneg**: from equal to or greater than threshold to below the threshold; 3) **both**: for crossing in either direction.  It should return the indices of the threshold crossings."
   ]
  },
  {
   "cell_type": "markdown",
   "metadata": {},
   "source": [
    "### 2c. `envelope`\n",
    "\n",
    "If a plotting function isn't designed to handle large numbers of samples, it render very slowly and even hang your system due to the large memory footprint of the plot object.  There are many ways of reducing or downsampling the data to the resolution of the plot.  Here, we will just compute a simple envelope.  Write a function\n",
    "\n",
    "```ylower, yupper, blockindices = envelope(y; nblocks)```\n",
    "\n",
    "which, given a waveform or vector `y`, returns the lower and upper bounds for `nblocks`\n",
    "blocks in `y`.  `blockindices` returns the starting indices of each block.\n",
    "A reasonable default for `nblocks` is 1/10th the length of `y`."
   ]
  },
  {
   "cell_type": "markdown",
   "metadata": {},
   "source": [
    "### Self-check\n",
    "\n",
    "You should test your code and make plots to verify that your implementations are correct.  The self-check quiz on canvas will allow you to check your draft submission before you submit your final version.  Here are examples of the types of questions you can expect\n",
    "\n",
    "- Compute function values for specified parameters.\n",
    "\n",
    "- What indices correspond to specified time values for a given sampling frequency?\n",
    "\n",
    "- Plot the functions for specified parameters (applies to all functions).\n",
    "\n",
    "- Make an overlay plot of a sine wave and a delayed sine wave.  To clearly illustrate the delay, you will be asked to format the plot and specify the x-axis ticks.\n",
    "\n",
    "- Plot even and odd Gabor functions given parameters.\n",
    "\n",
    "- Calculate the local maxima of a specific array of values.\n",
    "\n",
    "- Plot a sine wave with markers at the maxima.\n",
    "\n",
    "- Plot Gabor functions as a discrete set of samples in terms of samples per period.\n",
    "\n",
    "- Make a grid plot of functions to illustrate the behavior over a range of parameters.\n",
    "\n",
    "- Use the `envelope` function to plot the audio file `speech.wav` (in assignment files under the audio directory)."
   ]
  },
  {
   "cell_type": "markdown",
   "metadata": {},
   "source": [
    "***\n",
    "### Submission Instructions\n",
    "\n",
    "Please refer to the Assignment Submission Instructions on canvas under the Pages tab."
   ]
  },
  {
   "cell_type": "code",
   "execution_count": null,
   "metadata": {},
   "outputs": [],
   "source": []
  }
 ],
 "metadata": {
  "kernelspec": {
   "display_name": "Python 3",
   "language": "python",
   "name": "python3"
  },
  "language_info": {
   "file_extension": ".jl",
   "mimetype": "application/julia",
   "name": "python",
   "version": "3.10.6 (v3.10.6:9c7b4bd164, Aug  1 2022, 17:13:48) [Clang 13.0.0 (clang-1300.0.29.30)]"
  },
  "vscode": {
   "interpreter": {
    "hash": "aee8b7b246df8f9039afb4144a1f6fd8d2ca17a180786b69acc140d282b71a49"
   }
  }
 },
 "nbformat": 4,
 "nbformat_minor": 4
}
